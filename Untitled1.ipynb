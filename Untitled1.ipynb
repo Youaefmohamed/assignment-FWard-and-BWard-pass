{
  "nbformat": 4,
  "nbformat_minor": 0,
  "metadata": {
    "colab": {
      "provenance": [],
      "authorship_tag": "ABX9TyNMOVPfI0UZbdoMTd81Bbdy",
      "include_colab_link": true
    },
    "kernelspec": {
      "name": "python3",
      "display_name": "Python 3"
    },
    "language_info": {
      "name": "python"
    }
  },
  "cells": [
    {
      "cell_type": "markdown",
      "metadata": {
        "id": "view-in-github",
        "colab_type": "text"
      },
      "source": [
        "<a href=\"https://colab.research.google.com/github/Youaefmohamed/assignment-FWard-and-BWard-pass/blob/main/Untitled1.ipynb\" target=\"_parent\"><img src=\"https://colab.research.google.com/assets/colab-badge.svg\" alt=\"Open In Colab\"/></a>"
      ]
    },
    {
      "cell_type": "code",
      "execution_count": 1,
      "metadata": {
        "colab": {
          "base_uri": "https://localhost:8080/"
        },
        "id": "17zDXBAKFLIY",
        "outputId": "657bbfd7-727b-4322-d9c4-e4eb36030aef"
      },
      "outputs": [
        {
          "output_type": "stream",
          "name": "stdout",
          "text": [
            "Epoch 0 | Loss: 1.1790 | Predicted: Neuroscience\n",
            "Epoch 100 | Loss: 0.0012 | Predicted: Neuroscience\n",
            "Epoch 200 | Loss: 0.0006 | Predicted: Neuroscience\n",
            "Epoch 300 | Loss: 0.0004 | Predicted: Neuroscience\n",
            "Epoch 400 | Loss: 0.0002 | Predicted: Neuroscience\n",
            "Epoch 500 | Loss: 0.0002 | Predicted: Neuroscience\n",
            "Epoch 600 | Loss: 0.0001 | Predicted: Neuroscience\n",
            "Epoch 700 | Loss: 0.0001 | Predicted: Neuroscience\n",
            "Epoch 800 | Loss: 0.0001 | Predicted: Neuroscience\n",
            "Epoch 900 | Loss: 0.0001 | Predicted: Neuroscience\n",
            "\n",
            "Final Prediction:\n",
            "Input: I love Computational\n",
            "Predicted 4th word: Neuroscience\n"
          ]
        }
      ],
      "source": [
        "import torch\n",
        "import torch.nn as nn\n",
        "import torch.optim as optim\n",
        "\n",
        "sentence = [\"I\", \"love\", \"Computational\", \"Neuroscience\"]\n",
        "word2idx = {w: i for i, w in enumerate(sentence)}\n",
        "idx2word = {i: w for w, i in word2idx.items()}\n",
        "vocab_size = len(word2idx)\n",
        "\n",
        "input_sequence = sentence[:3]\n",
        "target_word = sentence[3]\n",
        "\n",
        "x_train = torch.tensor([[word2idx[word] for word in input_sequence]])\n",
        "y_train = torch.tensor([word2idx[target_word]])\n",
        "\n",
        "class SimpleRNN(nn.Module):\n",
        "    def __init__(self, vocab_size, embedding_dim, hidden_dim):\n",
        "        super(SimpleRNN, self).__init__()\n",
        "        self.embedding = nn.Embedding(vocab_size, embedding_dim)\n",
        "        self.rnn = nn.RNN(embedding_dim, hidden_dim, batch_first=True)\n",
        "        self.fc = nn.Linear(hidden_dim, vocab_size)\n",
        "\n",
        "    def forward(self, x):\n",
        "        embedded = self.embedding(x)\n",
        "        output, hidden = self.rnn(embedded)\n",
        "        last_output = output[:, -1, :]\n",
        "        out = self.fc(last_output)\n",
        "        return out\n",
        "\n",
        "\n",
        "embedding_dim = 10\n",
        "hidden_dim = 16\n",
        "model = SimpleRNN(vocab_size, embedding_dim, hidden_dim)\n",
        "\n",
        "criterion = nn.CrossEntropyLoss()\n",
        "optimizer = optim.Adam(model.parameters(), lr=0.01)\n",
        "\n",
        "for epoch in range(1000):\n",
        "    optimizer.zero_grad()\n",
        "    output = model(x_train)\n",
        "    loss = criterion(output, y_train)\n",
        "    loss.backward()\n",
        "    optimizer.step()\n",
        "\n",
        "    if epoch % 100 == 0:\n",
        "        predicted_idx = torch.argmax(output, dim=1).item()\n",
        "        predicted_word = idx2word[predicted_idx]\n",
        "        print(f\"Epoch {epoch} | Loss: {loss.item():.4f} | Predicted: {predicted_word}\")\n",
        "\n",
        "with torch.no_grad():\n",
        "    output = model(x_train)\n",
        "    predicted_idx = torch.argmax(output, dim=1).item()\n",
        "    predicted_word = idx2word[predicted_idx]\n",
        "    print(\"\\nFinal Prediction:\")\n",
        "    print(\"Input:\", \" \".join(input_sequence))\n",
        "    print(\"Predicted 4th word:\", predicted_word)\n"
      ]
    },
    {
      "cell_type": "code",
      "source": [],
      "metadata": {
        "id": "QVrCl8ZTFXDj"
      },
      "execution_count": null,
      "outputs": []
    }
  ]
}