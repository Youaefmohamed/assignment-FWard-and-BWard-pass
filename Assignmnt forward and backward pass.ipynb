{
 "cells": [
  {
   "cell_type": "code",
   "execution_count": 4,
   "id": "1352383b",
   "metadata": {},
   "outputs": [
    {
     "name": "stdout",
     "output_type": "stream",
     "text": [
      "Updated weights:\n",
      "w1: 0.1497807161327628, w2: 0.19956143226552567, w3: 0.24975114363236958, w4: 0.29950228726473915, w5: 0.35891647971788465, w6: 0.4086661860762334, w7: 0.5113012702387375, w8: 0.5613701211079891\n"
     ]
    }
   ],
   "source": [
    "import numpy as np\n",
    "\n",
    "def sigmoid(x):\n",
    "    return 1 / (1 + np.exp(-x))\n",
    "\n",
    "def sigmoid_derivative(x):\n",
    "    return x * (1 - x)\n",
    "\n",
    "w1, w2, w3, w4, w5, w6, w7, w8 = 0.15, 0.20, 0.25, 0.30, 0.40, 0.45, 0.50, 0.55\n",
    "b1, b2 = 0.35, 0.60\n",
    "\n",
    "inputs = np.array([0.05, 0.10])\n",
    "outputs = np.array([0.01, 0.99])\n",
    "\n",
    "learning_rate = 0.5\n",
    "\n",
    "h1_input = inputs[0] * w1 + inputs[1] * w2 + b1\n",
    "h1_output = sigmoid(h1_input)\n",
    "\n",
    "h2_input = inputs[0] * w3 + inputs[1] * w4 + b1\n",
    "h2_output = sigmoid(h2_input)\n",
    "\n",
    "o1_input = h1_output * w5 + h2_output * w6 + b2\n",
    "o1_output = sigmoid(o1_input)\n",
    "\n",
    "o2_input = h1_output * w7 + h2_output * w8 + b2\n",
    "o2_output = sigmoid(o2_input)\n",
    "\n",
    "error_o1 = outputs[0] - o1_output\n",
    "error_o2 = outputs[1] - o2_output\n",
    "\n",
    "delta_o1 = error_o1 * sigmoid_derivative(o1_output)\n",
    "delta_o2 = error_o2 * sigmoid_derivative(o2_output)\n",
    "\n",
    "delta_h1 = (delta_o1 * w5 + delta_o2 * w7) * sigmoid_derivative(h1_output)\n",
    "delta_h2 = (delta_o1 * w6 + delta_o2 * w8) * sigmoid_derivative(h2_output)\n",
    "\n",
    "w1 += learning_rate * delta_h1 * inputs[0]\n",
    "w2 += learning_rate * delta_h1 * inputs[1]\n",
    "w3 += learning_rate * delta_h2 * inputs[0]\n",
    "w4 += learning_rate * delta_h2 * inputs[1]\n",
    "w5 += learning_rate * delta_o1 * h1_output\n",
    "w6 += learning_rate * delta_o1 * h2_output\n",
    "w7 += learning_rate * delta_o2 * h1_output\n",
    "w8 += learning_rate * delta_o2 * h2_output\n",
    "\n",
    "b1 += learning_rate * (delta_h1 + delta_h2)\n",
    "b2 += learning_rate * (delta_o1 + delta_o2)\n",
    "\n",
    "print(\"Updated weights:\")\n",
    "print(f\"w1: {w1}, w2: {w2}, w3: {w3}, w4: {w4}, w5: {w5}, w6: {w6}, w7: {w7}, w8: {w8}\")"
   ]
  },
  {
   "cell_type": "code",
   "execution_count": null,
   "id": "17642c92",
   "metadata": {},
   "outputs": [],
   "source": []
  }
 ],
 "metadata": {
  "kernelspec": {
   "display_name": "Python 3 (ipykernel)",
   "language": "python",
   "name": "python3"
  },
  "language_info": {
   "codemirror_mode": {
    "name": "ipython",
    "version": 3
   },
   "file_extension": ".py",
   "mimetype": "text/x-python",
   "name": "python",
   "nbconvert_exporter": "python",
   "pygments_lexer": "ipython3",
   "version": "3.9.13"
  }
 },
 "nbformat": 4,
 "nbformat_minor": 5
}
